{
  "nbformat": 4,
  "nbformat_minor": 0,
  "metadata": {
    "colab": {
      "name": "Course2-2.  Augmentation : A technique to avoid overfitting",
      "provenance": [],
      "collapsed_sections": [],
      "authorship_tag": "ABX9TyOgmL5GsAjKVaV0jeOSsmwb",
      "include_colab_link": true
    },
    "kernelspec": {
      "name": "python3",
      "display_name": "Python 3"
    },
    "language_info": {
      "name": "python"
    },
    "accelerator": "GPU"
  },
  "cells": [
    {
      "cell_type": "markdown",
      "metadata": {
        "id": "view-in-github",
        "colab_type": "text"
      },
      "source": [
        "<a href=\"https://colab.research.google.com/github/jonhyuk0922/Tensorflow-Dev/blob/main/Course2_2_Augmentation_A_technique_to_avoid_overfitting.ipynb\" target=\"_parent\"><img src=\"https://colab.research.google.com/assets/colab-badge.svg\" alt=\"Open In Colab\"/></a>"
      ]
    },
    {
      "cell_type": "markdown",
      "metadata": {
        "id": "sWsftaNhfk5n"
      },
      "source": [
        "Copyright 2019 The TensorFlow Authors."
      ]
    },
    {
      "cell_type": "code",
      "metadata": {
        "id": "zH_bWJiGfiz5"
      },
      "source": [
        "#@title Licensed under the Apache License, Version 2.0 (the \"License\");\n",
        "# you may not use this file except in compliance with the License.\n",
        "# You may obtain a copy of the License at\n",
        "#\n",
        "# https://www.apache.org/licenses/LICENSE-2.0\n",
        "#\n",
        "# Unless required by applicable law or agreed to in writing, software\n",
        "# distributed under the License is distributed on an \"AS IS\" BASIS,\n",
        "# WITHOUT WARRANTIES OR CONDITIONS OF ANY KIND, either express or implied.\n",
        "# See the License for the specific language governing permissions and\n",
        "# limitations under the License."
      ],
      "execution_count": 1,
      "outputs": []
    },
    {
      "cell_type": "markdown",
      "metadata": {
        "id": "Sf9Mpwx2fznK"
      },
      "source": [
        "##1. 라이브러리 호출 및 데이터 저장"
      ]
    },
    {
      "cell_type": "markdown",
      "metadata": {
        "id": "rJ77lW-zgNwC"
      },
      "source": [
        "###1-1. 라이브러리 호출"
      ]
    },
    {
      "cell_type": "code",
      "metadata": {
        "id": "QzfA9LzxZNec"
      },
      "source": [
        "import os\n",
        "import zipfile\n",
        "import tensorflow as tf\n",
        "from tensorflow.keras.optimizers import RMSprop\n",
        "from tensorflow.keras.preprocessing.image import ImageDataGenerator"
      ],
      "execution_count": 2,
      "outputs": []
    },
    {
      "cell_type": "markdown",
      "metadata": {
        "id": "5tGuZjxwgPzN"
      },
      "source": [
        "###1-2. 데이터 다운로드"
      ]
    },
    {
      "cell_type": "code",
      "metadata": {
        "colab": {
          "base_uri": "https://localhost:8080/"
        },
        "id": "O3qL8STnfcgU",
        "outputId": "a656e9bb-f925-4415-ea1f-f541b4996228"
      },
      "source": [
        "!wget --no-check-certificate \\\n",
        "    https://storage.googleapis.com/mledu-datasets/cats_and_dogs_filtered.zip \\\n",
        "    -O /tmp/cats_and_dogs_filtered.zip"
      ],
      "execution_count": 3,
      "outputs": [
        {
          "output_type": "stream",
          "text": [
            "--2021-05-12 12:43:01--  https://storage.googleapis.com/mledu-datasets/cats_and_dogs_filtered.zip\n",
            "Resolving storage.googleapis.com (storage.googleapis.com)... 74.125.142.128, 74.125.195.128, 74.125.20.128, ...\n",
            "Connecting to storage.googleapis.com (storage.googleapis.com)|74.125.142.128|:443... connected.\n",
            "HTTP request sent, awaiting response... 200 OK\n",
            "Length: 68606236 (65M) [application/zip]\n",
            "Saving to: ‘/tmp/cats_and_dogs_filtered.zip’\n",
            "\n",
            "/tmp/cats_and_dogs_ 100%[===================>]  65.43M  75.4MB/s    in 0.9s    \n",
            "\n",
            "2021-05-12 12:43:02 (75.4 MB/s) - ‘/tmp/cats_and_dogs_filtered.zip’ saved [68606236/68606236]\n",
            "\n"
          ],
          "name": "stdout"
        }
      ]
    },
    {
      "cell_type": "code",
      "metadata": {
        "id": "M3GiQuXCgk_r"
      },
      "source": [
        "local_zip = '/tmp/cats_and_dogs_filtered.zip'\n",
        "zip_ref = zipfile.ZipFile(local_zip,'r')\n",
        "zip_ref.extractall('/tmp')\n",
        "zip_ref.close()"
      ],
      "execution_count": 4,
      "outputs": []
    },
    {
      "cell_type": "markdown",
      "metadata": {
        "id": "OwrYaG8HgRqx"
      },
      "source": [
        "###1-3. 디렉토리 지정"
      ]
    },
    {
      "cell_type": "code",
      "metadata": {
        "id": "5DXPNwVnfbUu"
      },
      "source": [
        "base_dir = '/tmp/cats_and_dogs_filtered'\n",
        "train_dir = '/tmp/cats_and_dogs_filtered/train' #os.path.join(base_dir,'train')\n",
        "validation_dir = '/tmp/cats_and_dogs_filtered/validation' #os.path.join(base_dir,'validation')"
      ],
      "execution_count": 5,
      "outputs": []
    },
    {
      "cell_type": "code",
      "metadata": {
        "id": "vYrRhBldfbRt"
      },
      "source": [
        "train_cats_dir = os.path.join(train_dir,'cats')\n",
        "train_dogs_dir = os.path.join(train_dir,'dogs')"
      ],
      "execution_count": 6,
      "outputs": []
    },
    {
      "cell_type": "code",
      "metadata": {
        "id": "H6Z-uq-tfbOL"
      },
      "source": [
        "validation_cats_dir = os.path.join(validation_dir,'cats')\n",
        "validation_dogs_dir = os.path.join(validation_dir,'dogs')"
      ],
      "execution_count": 7,
      "outputs": []
    },
    {
      "cell_type": "markdown",
      "metadata": {
        "id": "GSJ0SKVZh3XA"
      },
      "source": [
        "#2. 모델 정의 및 컴파일"
      ]
    },
    {
      "cell_type": "markdown",
      "metadata": {
        "id": "6VopuNxSh64p"
      },
      "source": [
        "##2-1. 모델 정의"
      ]
    },
    {
      "cell_type": "code",
      "metadata": {
        "id": "HFRFO3IWfbLD"
      },
      "source": [
        "model = tf.keras.models.Sequential([\n",
        "                             tf.keras.layers.Conv2D(32, (3,3),activation='relu',input_shape=(150,150,3)),\n",
        "                             tf.keras.layers.MaxPooling2D(2,2),\n",
        "                             tf.keras.layers.Conv2D(64, (3,3),activation='relu'),\n",
        "                             tf.keras.layers.MaxPooling2D(2,2),\n",
        "                             tf.keras.layers.Conv2D(128, (3,3),activation='relu'),\n",
        "                             tf.keras.layers.MaxPooling2D(2,2),\n",
        "                             tf.keras.layers.Conv2D(128, (3,3),activation='relu'),\n",
        "                             tf.keras.layers.MaxPooling2D(2,2),\n",
        "                             tf.keras.layers.Flatten(),\n",
        "                             tf.keras.layers.Dense(512,activation='relu'),\n",
        "                             tf.keras.layers.Dense(1, activation='sigmoid')\n",
        "])"
      ],
      "execution_count": 22,
      "outputs": []
    },
    {
      "cell_type": "markdown",
      "metadata": {
        "id": "6Byvz59qjHsr"
      },
      "source": [
        "###2-2. 모델 컴파일\n",
        "\n",
        "* 학습율 조정을 위해 RMSprop 옵티마이저 사용"
      ]
    },
    {
      "cell_type": "code",
      "metadata": {
        "id": "HyBdLx3rjSAW"
      },
      "source": [
        "model.compile(loss='binary_crossentropy',\n",
        "              optimizer=RMSprop(lr=1e-4),\n",
        "              metrics=['accuracy'])"
      ],
      "execution_count": 23,
      "outputs": []
    },
    {
      "cell_type": "markdown",
      "metadata": {
        "id": "9O1anmEIkzeD"
      },
      "source": [
        "#3. 이미지 제너레이터 생성\n",
        "\n",
        " * 우선 사용할 generator 인스턴스 생성해준다.\n",
        " * RGB 계수가 0~255 인데, 이건 학습하기에 부적합한 값이므로 rescale 해준다."
      ]
    },
    {
      "cell_type": "code",
      "metadata": {
        "id": "Co1YWSI8k3dq"
      },
      "source": [
        "train_datagen = ImageDataGenerator(rescale=1./255)\n",
        "test_datagen = ImageDataGenerator(rescale=1./255)"
      ],
      "execution_count": 10,
      "outputs": []
    },
    {
      "cell_type": "markdown",
      "metadata": {
        "id": "Iyg0cHMpl-x4"
      },
      "source": [
        "* 데이터는 위에서 지정한 train 디렉토리에서 가져온다.\n",
        "* 모든 사이즈는 동일해야하므로 (150,150)으로 지정해준다."
      ]
    },
    {
      "cell_type": "code",
      "metadata": {
        "colab": {
          "base_uri": "https://localhost:8080/"
        },
        "id": "ESdfHNkKlr3j",
        "outputId": "fd3f296b-cf50-43dc-c84b-a28cc06b7ab5"
      },
      "source": [
        "train_generator = train_datagen.flow_from_directory(\n",
        "        train_dir,  # This is the source directory for training images\n",
        "        target_size=(150, 150),  # All images will be resized to 150x150\n",
        "        batch_size=20,\n",
        "        # Since we use binary_crossentropy loss, we need binary labels\n",
        "        class_mode='binary')"
      ],
      "execution_count": 11,
      "outputs": [
        {
          "output_type": "stream",
          "text": [
            "Found 2000 images belonging to 2 classes.\n"
          ],
          "name": "stdout"
        }
      ]
    },
    {
      "cell_type": "code",
      "metadata": {
        "colab": {
          "base_uri": "https://localhost:8080/"
        },
        "id": "cEb43x1ZmPv4",
        "outputId": "95f1cb70-95d1-4ec4-f498-c910176dda3d"
      },
      "source": [
        "validation_generator = test_datagen.flow_from_directory(\n",
        "        validation_dir,\n",
        "        target_size=(150, 150),\n",
        "        batch_size=20,\n",
        "        class_mode='binary')"
      ],
      "execution_count": 12,
      "outputs": [
        {
          "output_type": "stream",
          "text": [
            "Found 1000 images belonging to 2 classes.\n"
          ],
          "name": "stdout"
        }
      ]
    },
    {
      "cell_type": "markdown",
      "metadata": {
        "id": "yNhFszsHmY46"
      },
      "source": [
        "#4. 모델 학습"
      ]
    },
    {
      "cell_type": "code",
      "metadata": {
        "colab": {
          "base_uri": "https://localhost:8080/"
        },
        "id": "UzcEAi8Jmaas",
        "outputId": "bbacfb89-fd39-441e-fa28-b95e20a744a3"
      },
      "source": [
        "history = model.fit(\n",
        "      train_generator,\n",
        "      steps_per_epoch=100,  # 2000 images = batch_size * steps\n",
        "      epochs=100,\n",
        "      validation_data=validation_generator,\n",
        "      validation_steps=50,  # 1000 images = batch_size * steps\n",
        "      verbose=2)"
      ],
      "execution_count": 13,
      "outputs": [
        {
          "output_type": "stream",
          "text": [
            "Epoch 1/100\n",
            "100/100 - 41s - loss: 0.6885 - accuracy: 0.5370 - val_loss: 0.6660 - val_accuracy: 0.6050\n",
            "Epoch 2/100\n",
            "100/100 - 8s - loss: 0.6569 - accuracy: 0.6035 - val_loss: 0.6351 - val_accuracy: 0.6740\n",
            "Epoch 3/100\n",
            "100/100 - 8s - loss: 0.6098 - accuracy: 0.6770 - val_loss: 0.6074 - val_accuracy: 0.6680\n",
            "Epoch 4/100\n",
            "100/100 - 8s - loss: 0.5615 - accuracy: 0.7020 - val_loss: 0.6150 - val_accuracy: 0.6470\n",
            "Epoch 5/100\n",
            "100/100 - 8s - loss: 0.5408 - accuracy: 0.7240 - val_loss: 0.5604 - val_accuracy: 0.7150\n",
            "Epoch 6/100\n",
            "100/100 - 8s - loss: 0.5084 - accuracy: 0.7560 - val_loss: 0.5871 - val_accuracy: 0.6870\n",
            "Epoch 7/100\n",
            "100/100 - 8s - loss: 0.4875 - accuracy: 0.7595 - val_loss: 0.5571 - val_accuracy: 0.7310\n",
            "Epoch 8/100\n",
            "100/100 - 8s - loss: 0.4600 - accuracy: 0.7890 - val_loss: 0.5356 - val_accuracy: 0.7260\n",
            "Epoch 9/100\n",
            "100/100 - 8s - loss: 0.4318 - accuracy: 0.8015 - val_loss: 0.5512 - val_accuracy: 0.7250\n",
            "Epoch 10/100\n",
            "100/100 - 8s - loss: 0.4125 - accuracy: 0.8015 - val_loss: 0.5221 - val_accuracy: 0.7420\n",
            "Epoch 11/100\n",
            "100/100 - 8s - loss: 0.3826 - accuracy: 0.8285 - val_loss: 0.5914 - val_accuracy: 0.7130\n",
            "Epoch 12/100\n",
            "100/100 - 8s - loss: 0.3662 - accuracy: 0.8335 - val_loss: 0.5214 - val_accuracy: 0.7410\n",
            "Epoch 13/100\n",
            "100/100 - 8s - loss: 0.3424 - accuracy: 0.8530 - val_loss: 0.5421 - val_accuracy: 0.7370\n",
            "Epoch 14/100\n",
            "100/100 - 8s - loss: 0.3235 - accuracy: 0.8525 - val_loss: 0.5098 - val_accuracy: 0.7630\n",
            "Epoch 15/100\n",
            "100/100 - 8s - loss: 0.2973 - accuracy: 0.8780 - val_loss: 0.5329 - val_accuracy: 0.7500\n",
            "Epoch 16/100\n",
            "100/100 - 8s - loss: 0.2771 - accuracy: 0.8825 - val_loss: 0.5793 - val_accuracy: 0.7490\n",
            "Epoch 17/100\n",
            "100/100 - 8s - loss: 0.2542 - accuracy: 0.9020 - val_loss: 0.5353 - val_accuracy: 0.7550\n",
            "Epoch 18/100\n",
            "100/100 - 8s - loss: 0.2384 - accuracy: 0.9120 - val_loss: 0.5818 - val_accuracy: 0.7440\n",
            "Epoch 19/100\n",
            "100/100 - 8s - loss: 0.2142 - accuracy: 0.9235 - val_loss: 0.5740 - val_accuracy: 0.7520\n",
            "Epoch 20/100\n",
            "100/100 - 8s - loss: 0.1946 - accuracy: 0.9300 - val_loss: 0.6480 - val_accuracy: 0.7320\n",
            "Epoch 21/100\n",
            "100/100 - 8s - loss: 0.1806 - accuracy: 0.9390 - val_loss: 0.5587 - val_accuracy: 0.7720\n",
            "Epoch 22/100\n",
            "100/100 - 8s - loss: 0.1581 - accuracy: 0.9500 - val_loss: 0.6422 - val_accuracy: 0.7370\n",
            "Epoch 23/100\n",
            "100/100 - 8s - loss: 0.1473 - accuracy: 0.9510 - val_loss: 0.6125 - val_accuracy: 0.7640\n",
            "Epoch 24/100\n",
            "100/100 - 8s - loss: 0.1267 - accuracy: 0.9610 - val_loss: 0.6149 - val_accuracy: 0.7620\n",
            "Epoch 25/100\n",
            "100/100 - 8s - loss: 0.1112 - accuracy: 0.9655 - val_loss: 0.7076 - val_accuracy: 0.7470\n",
            "Epoch 26/100\n",
            "100/100 - 8s - loss: 0.1001 - accuracy: 0.9660 - val_loss: 0.6567 - val_accuracy: 0.7510\n",
            "Epoch 27/100\n",
            "100/100 - 8s - loss: 0.0898 - accuracy: 0.9715 - val_loss: 0.6272 - val_accuracy: 0.7620\n",
            "Epoch 28/100\n",
            "100/100 - 8s - loss: 0.0719 - accuracy: 0.9830 - val_loss: 0.7275 - val_accuracy: 0.7590\n",
            "Epoch 29/100\n",
            "100/100 - 8s - loss: 0.0614 - accuracy: 0.9840 - val_loss: 0.8004 - val_accuracy: 0.7530\n",
            "Epoch 30/100\n",
            "100/100 - 8s - loss: 0.0540 - accuracy: 0.9855 - val_loss: 0.7320 - val_accuracy: 0.7720\n",
            "Epoch 31/100\n",
            "100/100 - 8s - loss: 0.0529 - accuracy: 0.9845 - val_loss: 0.7953 - val_accuracy: 0.7510\n",
            "Epoch 32/100\n",
            "100/100 - 8s - loss: 0.0359 - accuracy: 0.9925 - val_loss: 0.7534 - val_accuracy: 0.7710\n",
            "Epoch 33/100\n",
            "100/100 - 8s - loss: 0.0358 - accuracy: 0.9900 - val_loss: 0.9256 - val_accuracy: 0.7520\n",
            "Epoch 34/100\n",
            "100/100 - 8s - loss: 0.0307 - accuracy: 0.9935 - val_loss: 0.8709 - val_accuracy: 0.7700\n",
            "Epoch 35/100\n",
            "100/100 - 8s - loss: 0.0249 - accuracy: 0.9935 - val_loss: 0.8892 - val_accuracy: 0.7680\n",
            "Epoch 36/100\n",
            "100/100 - 8s - loss: 0.0274 - accuracy: 0.9935 - val_loss: 0.9375 - val_accuracy: 0.7650\n",
            "Epoch 37/100\n",
            "100/100 - 8s - loss: 0.0199 - accuracy: 0.9950 - val_loss: 0.8757 - val_accuracy: 0.7720\n",
            "Epoch 38/100\n",
            "100/100 - 8s - loss: 0.0171 - accuracy: 0.9975 - val_loss: 0.9587 - val_accuracy: 0.7650\n",
            "Epoch 39/100\n",
            "100/100 - 8s - loss: 0.0172 - accuracy: 0.9960 - val_loss: 0.9688 - val_accuracy: 0.7520\n",
            "Epoch 40/100\n",
            "100/100 - 8s - loss: 0.0147 - accuracy: 0.9950 - val_loss: 1.0149 - val_accuracy: 0.7620\n",
            "Epoch 41/100\n",
            "100/100 - 8s - loss: 0.0151 - accuracy: 0.9960 - val_loss: 1.0768 - val_accuracy: 0.7380\n",
            "Epoch 42/100\n",
            "100/100 - 8s - loss: 0.0083 - accuracy: 0.9985 - val_loss: 1.0708 - val_accuracy: 0.7630\n",
            "Epoch 43/100\n",
            "100/100 - 8s - loss: 0.0103 - accuracy: 0.9970 - val_loss: 1.6917 - val_accuracy: 0.7090\n",
            "Epoch 44/100\n",
            "100/100 - 8s - loss: 0.0202 - accuracy: 0.9945 - val_loss: 1.0124 - val_accuracy: 0.7710\n",
            "Epoch 45/100\n",
            "100/100 - 8s - loss: 0.0076 - accuracy: 0.9975 - val_loss: 1.1526 - val_accuracy: 0.7620\n",
            "Epoch 46/100\n",
            "100/100 - 8s - loss: 0.0103 - accuracy: 0.9980 - val_loss: 1.1697 - val_accuracy: 0.7680\n",
            "Epoch 47/100\n",
            "100/100 - 8s - loss: 0.0141 - accuracy: 0.9945 - val_loss: 1.3370 - val_accuracy: 0.7480\n",
            "Epoch 48/100\n",
            "100/100 - 8s - loss: 0.0056 - accuracy: 0.9980 - val_loss: 1.1442 - val_accuracy: 0.7730\n",
            "Epoch 49/100\n",
            "100/100 - 8s - loss: 0.0080 - accuracy: 0.9985 - val_loss: 1.2184 - val_accuracy: 0.7600\n",
            "Epoch 50/100\n",
            "100/100 - 8s - loss: 0.0077 - accuracy: 0.9980 - val_loss: 1.2679 - val_accuracy: 0.7740\n",
            "Epoch 51/100\n",
            "100/100 - 8s - loss: 0.0034 - accuracy: 1.0000 - val_loss: 1.3244 - val_accuracy: 0.7550\n",
            "Epoch 52/100\n",
            "100/100 - 8s - loss: 0.0064 - accuracy: 0.9980 - val_loss: 1.3519 - val_accuracy: 0.7640\n",
            "Epoch 53/100\n",
            "100/100 - 8s - loss: 0.0044 - accuracy: 0.9985 - val_loss: 1.3629 - val_accuracy: 0.7680\n",
            "Epoch 54/100\n",
            "100/100 - 8s - loss: 0.0097 - accuracy: 0.9960 - val_loss: 1.3552 - val_accuracy: 0.7610\n",
            "Epoch 55/100\n",
            "100/100 - 8s - loss: 0.0026 - accuracy: 0.9995 - val_loss: 1.3348 - val_accuracy: 0.7650\n",
            "Epoch 56/100\n",
            "100/100 - 8s - loss: 0.0026 - accuracy: 0.9995 - val_loss: 1.4882 - val_accuracy: 0.7670\n",
            "Epoch 57/100\n",
            "100/100 - 8s - loss: 0.0047 - accuracy: 0.9995 - val_loss: 1.3878 - val_accuracy: 0.7720\n",
            "Epoch 58/100\n",
            "100/100 - 8s - loss: 0.0065 - accuracy: 0.9975 - val_loss: 1.4079 - val_accuracy: 0.7700\n",
            "Epoch 59/100\n",
            "100/100 - 8s - loss: 0.0064 - accuracy: 0.9990 - val_loss: 1.4109 - val_accuracy: 0.7700\n",
            "Epoch 60/100\n",
            "100/100 - 8s - loss: 0.0056 - accuracy: 0.9975 - val_loss: 1.4086 - val_accuracy: 0.7650\n",
            "Epoch 61/100\n",
            "100/100 - 8s - loss: 0.0042 - accuracy: 0.9990 - val_loss: 1.4784 - val_accuracy: 0.7630\n",
            "Epoch 62/100\n",
            "100/100 - 8s - loss: 0.0031 - accuracy: 0.9985 - val_loss: 1.5340 - val_accuracy: 0.7660\n",
            "Epoch 63/100\n",
            "100/100 - 8s - loss: 0.0063 - accuracy: 0.9985 - val_loss: 1.5447 - val_accuracy: 0.7600\n",
            "Epoch 64/100\n",
            "100/100 - 8s - loss: 8.7670e-04 - accuracy: 0.9995 - val_loss: 1.9424 - val_accuracy: 0.7470\n",
            "Epoch 65/100\n",
            "100/100 - 8s - loss: 0.0024 - accuracy: 0.9980 - val_loss: 1.5754 - val_accuracy: 0.7740\n",
            "Epoch 66/100\n",
            "100/100 - 8s - loss: 0.0027 - accuracy: 0.9990 - val_loss: 1.6229 - val_accuracy: 0.7660\n",
            "Epoch 67/100\n",
            "100/100 - 8s - loss: 0.0036 - accuracy: 0.9985 - val_loss: 1.6375 - val_accuracy: 0.7630\n",
            "Epoch 68/100\n",
            "100/100 - 8s - loss: 0.0041 - accuracy: 0.9990 - val_loss: 1.6770 - val_accuracy: 0.7600\n",
            "Epoch 69/100\n",
            "100/100 - 8s - loss: 0.0080 - accuracy: 0.9980 - val_loss: 1.6818 - val_accuracy: 0.7700\n",
            "Epoch 70/100\n",
            "100/100 - 8s - loss: 0.0011 - accuracy: 1.0000 - val_loss: 1.7651 - val_accuracy: 0.7610\n",
            "Epoch 71/100\n",
            "100/100 - 8s - loss: 0.0052 - accuracy: 0.9980 - val_loss: 1.6464 - val_accuracy: 0.7790\n",
            "Epoch 72/100\n",
            "100/100 - 8s - loss: 8.7963e-04 - accuracy: 1.0000 - val_loss: 1.7694 - val_accuracy: 0.7420\n",
            "Epoch 73/100\n",
            "100/100 - 8s - loss: 0.0045 - accuracy: 0.9990 - val_loss: 1.6817 - val_accuracy: 0.7560\n",
            "Epoch 74/100\n",
            "100/100 - 8s - loss: 0.0075 - accuracy: 0.9975 - val_loss: 1.7691 - val_accuracy: 0.7540\n",
            "Epoch 75/100\n",
            "100/100 - 8s - loss: 0.0043 - accuracy: 0.9980 - val_loss: 1.8297 - val_accuracy: 0.7540\n",
            "Epoch 76/100\n",
            "100/100 - 8s - loss: 0.0132 - accuracy: 0.9975 - val_loss: 1.6230 - val_accuracy: 0.7630\n",
            "Epoch 77/100\n",
            "100/100 - 8s - loss: 2.6566e-04 - accuracy: 1.0000 - val_loss: 1.6461 - val_accuracy: 0.7670\n",
            "Epoch 78/100\n",
            "100/100 - 8s - loss: 0.0047 - accuracy: 0.9985 - val_loss: 1.6515 - val_accuracy: 0.7760\n",
            "Epoch 79/100\n",
            "100/100 - 8s - loss: 0.0036 - accuracy: 0.9980 - val_loss: 1.9342 - val_accuracy: 0.7500\n",
            "Epoch 80/100\n",
            "100/100 - 8s - loss: 0.0025 - accuracy: 0.9990 - val_loss: 1.9158 - val_accuracy: 0.7490\n",
            "Epoch 81/100\n",
            "100/100 - 8s - loss: 7.1488e-04 - accuracy: 1.0000 - val_loss: 1.9424 - val_accuracy: 0.7580\n",
            "Epoch 82/100\n",
            "100/100 - 8s - loss: 0.0031 - accuracy: 0.9990 - val_loss: 1.9107 - val_accuracy: 0.7630\n",
            "Epoch 83/100\n",
            "100/100 - 8s - loss: 0.0020 - accuracy: 0.9985 - val_loss: 1.8827 - val_accuracy: 0.7600\n",
            "Epoch 84/100\n",
            "100/100 - 8s - loss: 0.0062 - accuracy: 0.9980 - val_loss: 1.8685 - val_accuracy: 0.7520\n",
            "Epoch 85/100\n",
            "100/100 - 8s - loss: 0.0024 - accuracy: 0.9990 - val_loss: 1.9090 - val_accuracy: 0.7610\n",
            "Epoch 86/100\n",
            "100/100 - 8s - loss: 0.0098 - accuracy: 0.9975 - val_loss: 2.0028 - val_accuracy: 0.7580\n",
            "Epoch 87/100\n",
            "100/100 - 8s - loss: 2.8306e-04 - accuracy: 1.0000 - val_loss: 1.8666 - val_accuracy: 0.7700\n",
            "Epoch 88/100\n",
            "100/100 - 8s - loss: 0.0030 - accuracy: 0.9990 - val_loss: 1.9755 - val_accuracy: 0.7600\n",
            "Epoch 89/100\n",
            "100/100 - 8s - loss: 0.0048 - accuracy: 0.9985 - val_loss: 1.9690 - val_accuracy: 0.7700\n",
            "Epoch 90/100\n",
            "100/100 - 8s - loss: 1.3752e-04 - accuracy: 1.0000 - val_loss: 1.9538 - val_accuracy: 0.7720\n",
            "Epoch 91/100\n",
            "100/100 - 8s - loss: 0.0067 - accuracy: 0.9975 - val_loss: 2.1426 - val_accuracy: 0.7620\n",
            "Epoch 92/100\n",
            "100/100 - 8s - loss: 0.0063 - accuracy: 0.9985 - val_loss: 1.9281 - val_accuracy: 0.7690\n",
            "Epoch 93/100\n",
            "100/100 - 8s - loss: 0.0021 - accuracy: 0.9990 - val_loss: 2.0972 - val_accuracy: 0.7660\n",
            "Epoch 94/100\n",
            "100/100 - 8s - loss: 0.0032 - accuracy: 0.9990 - val_loss: 2.1566 - val_accuracy: 0.7630\n",
            "Epoch 95/100\n",
            "100/100 - 8s - loss: 0.0019 - accuracy: 0.9990 - val_loss: 2.3238 - val_accuracy: 0.7520\n",
            "Epoch 96/100\n",
            "100/100 - 8s - loss: 1.2238e-04 - accuracy: 1.0000 - val_loss: 2.1146 - val_accuracy: 0.7640\n",
            "Epoch 97/100\n",
            "100/100 - 8s - loss: 0.0115 - accuracy: 0.9980 - val_loss: 2.0057 - val_accuracy: 0.7670\n",
            "Epoch 98/100\n",
            "100/100 - 8s - loss: 0.0072 - accuracy: 0.9980 - val_loss: 2.1136 - val_accuracy: 0.7590\n",
            "Epoch 99/100\n",
            "100/100 - 8s - loss: 3.0600e-05 - accuracy: 1.0000 - val_loss: 2.0378 - val_accuracy: 0.7690\n",
            "Epoch 100/100\n",
            "100/100 - 8s - loss: 0.0035 - accuracy: 0.9995 - val_loss: 2.0612 - val_accuracy: 0.7600\n"
          ],
          "name": "stdout"
        }
      ]
    },
    {
      "cell_type": "markdown",
      "metadata": {
        "id": "Zj1ViXmqmlJI"
      },
      "source": [
        "#5. 결과값 시각화"
      ]
    },
    {
      "cell_type": "code",
      "metadata": {
        "colab": {
          "base_uri": "https://localhost:8080/",
          "height": 545
        },
        "id": "QaJ0PVyEmj9M",
        "outputId": "442a08d4-42fd-43e9-ff70-453be7f6bdef"
      },
      "source": [
        "import matplotlib.pyplot as plt\n",
        "acc = history.history['accuracy']\n",
        "val_acc = history.history['val_accuracy']\n",
        "loss = history.history['loss']\n",
        "val_loss = history.history['val_loss']\n",
        "\n",
        "epochs = range(len(acc))\n",
        "\n",
        "plt.plot(epochs, acc, 'bo', label='Training accuracy')\n",
        "plt.plot(epochs, val_acc, 'b', label='Validation accuracy')\n",
        "plt.title('Training and validation accuracy')\n",
        "\n",
        "plt.figure()\n",
        "\n",
        "plt.plot(epochs, loss, 'bo', label='Training Loss')\n",
        "plt.plot(epochs, val_loss, 'b', label='Validation Loss')\n",
        "plt.title('Training and validation loss')\n",
        "plt.legend()\n",
        "\n",
        "plt.show()"
      ],
      "execution_count": 16,
      "outputs": [
        {
          "output_type": "display_data",
          "data": {
            "image/png": "[encoded data removed]",
            "text/plain": [
              "<Figure size 432x288 with 1 Axes>"
            ]
          },
          "metadata": {
            "tags": [],
            "needs_background": "light"
          }
        },
        {
          "output_type": "display_data",
          "data": {
            "image/png": "[encoded data removed]",
            "text/plain": [
              "<Figure size 432x288 with 1 Axes>"
            ]
          },
          "metadata": {
            "tags": [],
            "needs_background": "light"
          }
        }
      ]
    },
    {
      "cell_type": "markdown",
      "metadata": {
        "id": "jjxmpe1bpsg3"
      },
      "source": [
        " * 전형적인 오버피팅을 확인할 수 있다. trian accuracy는 1에 가까워지고있지만 validation accuracy는 70~80% 에 머물러 있다.\n",
        " * 오버피팅을 벗어나기 위해 학습데이터를 늘려볼건데, 이번에 사용할 방법은 Augmentation(증강)이다."
      ]
    },
    {
      "cell_type": "markdown",
      "metadata": {
        "id": "IVgAszwrqE5Q"
      },
      "source": [
        "#Augmentation(증강)\n",
        "* 오버피팅을 피하기 위해 메모리 상에서 데이터 셋을 증강시켜주는 것 (회전, 반전 , 너비조절 등) "
      ]
    },
    {
      "cell_type": "markdown",
      "metadata": {
        "id": "iYIhwFQMZUyx"
      },
      "source": [
        "\n",
        "https://keras.io/api/preprocessing/image/\n",
        "\n",
        "-> 위 사이트에서 ImageDataGenerator class를 검색해보자."
      ]
    },
    {
      "cell_type": "markdown",
      "metadata": {
        "id": "i2qULyfhqMUv"
      },
      "source": [
        "#6. ImageGenerator + Augmentation"
      ]
    },
    {
      "cell_type": "code",
      "metadata": {
        "id": "0hOKrme4fWU0"
      },
      "source": [
        "train_datagen = ImageDataGenerator(\n",
        "      rescale=1./255,\n",
        "      rotation_range=40,\n",
        "      width_shift_range=0.2,\n",
        "      height_shift_range=0.2,\n",
        "      shear_range=0.2,\n",
        "      zoom_range=0.2,\n",
        "      horizontal_flip=True,\n",
        "      fill_mode='nearest'\n",
        "    )\n",
        "test_datagen = ImageDataGenerator(\n",
        "    rescale=1./255\n",
        "    )"
      ],
      "execution_count": 19,
      "outputs": []
    },
    {
      "cell_type": "markdown",
      "metadata": {
        "id": "0jpYlYTTzZNO"
      },
      "source": [
        "* 위로 올라가서 2. 모델 정의 및 컴파일 다시하고 내려와야함 **"
      ]
    },
    {
      "cell_type": "markdown",
      "metadata": {
        "id": "4c9vP2tYqc5w"
      },
      "source": [
        "#7. 증강 후 모델 재학습 및 시각화"
      ]
    },
    {
      "cell_type": "code",
      "metadata": {
        "id": "Tp4-6VZh0hBX",
        "colab": {
          "base_uri": "https://localhost:8080/"
        },
        "outputId": "0ec1789e-e3ca-4c1c-af0e-9e3efbdc9519"
      },
      "source": [
        "history = model.fit(\n",
        "      train_generator,\n",
        "      steps_per_epoch=100,  # 2000 images = batch_size * steps\n",
        "      epochs=100,\n",
        "      validation_data=validation_generator,\n",
        "      validation_steps=50,  # 1000 images = batch_size * steps\n",
        "      verbose=2)"
      ],
      "execution_count": 24,
      "outputs": [
        {
          "output_type": "stream",
          "text": [
            "Epoch 1/100\n",
            "100/100 - 9s - loss: 0.6883 - accuracy: 0.5505 - val_loss: 0.6741 - val_accuracy: 0.6290\n",
            "Epoch 2/100\n",
            "100/100 - 8s - loss: 0.6646 - accuracy: 0.6065 - val_loss: 0.6402 - val_accuracy: 0.6470\n",
            "Epoch 3/100\n",
            "100/100 - 8s - loss: 0.6145 - accuracy: 0.6755 - val_loss: 0.6688 - val_accuracy: 0.5940\n",
            "Epoch 4/100\n",
            "100/100 - 8s - loss: 0.5716 - accuracy: 0.7060 - val_loss: 0.5787 - val_accuracy: 0.7090\n",
            "Epoch 5/100\n",
            "100/100 - 8s - loss: 0.5298 - accuracy: 0.7405 - val_loss: 0.6399 - val_accuracy: 0.6640\n",
            "Epoch 6/100\n",
            "100/100 - 8s - loss: 0.4990 - accuracy: 0.7565 - val_loss: 0.5612 - val_accuracy: 0.7190\n",
            "Epoch 7/100\n",
            "100/100 - 8s - loss: 0.4739 - accuracy: 0.7775 - val_loss: 0.5597 - val_accuracy: 0.7080\n",
            "Epoch 8/100\n",
            "100/100 - 8s - loss: 0.4492 - accuracy: 0.7940 - val_loss: 0.5698 - val_accuracy: 0.7160\n",
            "Epoch 9/100\n",
            "100/100 - 8s - loss: 0.4242 - accuracy: 0.8045 - val_loss: 0.5311 - val_accuracy: 0.7300\n",
            "Epoch 10/100\n",
            "100/100 - 8s - loss: 0.3986 - accuracy: 0.8230 - val_loss: 0.5748 - val_accuracy: 0.7230\n",
            "Epoch 11/100\n",
            "100/100 - 8s - loss: 0.3781 - accuracy: 0.8315 - val_loss: 0.5188 - val_accuracy: 0.7520\n",
            "Epoch 12/100\n",
            "100/100 - 8s - loss: 0.3536 - accuracy: 0.8435 - val_loss: 0.5362 - val_accuracy: 0.7470\n",
            "Epoch 13/100\n",
            "100/100 - 8s - loss: 0.3343 - accuracy: 0.8530 - val_loss: 0.5204 - val_accuracy: 0.7570\n",
            "Epoch 14/100\n",
            "100/100 - 8s - loss: 0.3050 - accuracy: 0.8745 - val_loss: 0.5396 - val_accuracy: 0.7570\n",
            "Epoch 15/100\n",
            "100/100 - 8s - loss: 0.2832 - accuracy: 0.8865 - val_loss: 0.6569 - val_accuracy: 0.7230\n",
            "Epoch 16/100\n",
            "100/100 - 8s - loss: 0.2688 - accuracy: 0.8865 - val_loss: 0.6159 - val_accuracy: 0.7320\n",
            "Epoch 17/100\n",
            "100/100 - 8s - loss: 0.2386 - accuracy: 0.9030 - val_loss: 0.5460 - val_accuracy: 0.7660\n",
            "Epoch 18/100\n",
            "100/100 - 8s - loss: 0.2238 - accuracy: 0.9175 - val_loss: 0.6030 - val_accuracy: 0.7480\n",
            "Epoch 19/100\n",
            "100/100 - 8s - loss: 0.1941 - accuracy: 0.9270 - val_loss: 0.6114 - val_accuracy: 0.7400\n",
            "Epoch 20/100\n",
            "100/100 - 8s - loss: 0.1750 - accuracy: 0.9385 - val_loss: 0.6495 - val_accuracy: 0.7500\n",
            "Epoch 21/100\n",
            "100/100 - 8s - loss: 0.1686 - accuracy: 0.9385 - val_loss: 0.6213 - val_accuracy: 0.7580\n",
            "Epoch 22/100\n",
            "100/100 - 8s - loss: 0.1468 - accuracy: 0.9535 - val_loss: 0.6360 - val_accuracy: 0.7540\n",
            "Epoch 23/100\n",
            "100/100 - 8s - loss: 0.1320 - accuracy: 0.9560 - val_loss: 0.6519 - val_accuracy: 0.7470\n",
            "Epoch 24/100\n",
            "100/100 - 8s - loss: 0.1141 - accuracy: 0.9660 - val_loss: 0.6693 - val_accuracy: 0.7470\n",
            "Epoch 25/100\n",
            "100/100 - 8s - loss: 0.0959 - accuracy: 0.9705 - val_loss: 0.8052 - val_accuracy: 0.7300\n",
            "Epoch 26/100\n",
            "100/100 - 8s - loss: 0.0813 - accuracy: 0.9765 - val_loss: 0.7556 - val_accuracy: 0.7500\n",
            "Epoch 27/100\n",
            "100/100 - 8s - loss: 0.0751 - accuracy: 0.9765 - val_loss: 0.8313 - val_accuracy: 0.7470\n",
            "Epoch 28/100\n",
            "100/100 - 8s - loss: 0.0610 - accuracy: 0.9840 - val_loss: 0.8493 - val_accuracy: 0.7470\n",
            "Epoch 29/100\n",
            "100/100 - 8s - loss: 0.0591 - accuracy: 0.9835 - val_loss: 0.7817 - val_accuracy: 0.7610\n",
            "Epoch 30/100\n",
            "100/100 - 8s - loss: 0.0408 - accuracy: 0.9910 - val_loss: 0.9086 - val_accuracy: 0.7510\n",
            "Epoch 31/100\n",
            "100/100 - 8s - loss: 0.0363 - accuracy: 0.9905 - val_loss: 0.9507 - val_accuracy: 0.7520\n",
            "Epoch 32/100\n",
            "100/100 - 8s - loss: 0.0342 - accuracy: 0.9915 - val_loss: 0.9547 - val_accuracy: 0.7590\n",
            "Epoch 33/100\n",
            "100/100 - 8s - loss: 0.0273 - accuracy: 0.9935 - val_loss: 0.9426 - val_accuracy: 0.7640\n",
            "Epoch 34/100\n",
            "100/100 - 8s - loss: 0.0206 - accuracy: 0.9965 - val_loss: 0.9900 - val_accuracy: 0.7570\n",
            "Epoch 35/100\n",
            "100/100 - 8s - loss: 0.0219 - accuracy: 0.9940 - val_loss: 1.0176 - val_accuracy: 0.7660\n",
            "Epoch 36/100\n",
            "100/100 - 8s - loss: 0.0170 - accuracy: 0.9950 - val_loss: 1.0236 - val_accuracy: 0.7590\n",
            "Epoch 37/100\n",
            "100/100 - 8s - loss: 0.0144 - accuracy: 0.9960 - val_loss: 1.1595 - val_accuracy: 0.7480\n",
            "Epoch 38/100\n",
            "100/100 - 8s - loss: 0.0114 - accuracy: 0.9970 - val_loss: 2.0919 - val_accuracy: 0.6850\n",
            "Epoch 39/100\n",
            "100/100 - 8s - loss: 0.0175 - accuracy: 0.9960 - val_loss: 1.2332 - val_accuracy: 0.7640\n",
            "Epoch 40/100\n",
            "100/100 - 8s - loss: 0.0132 - accuracy: 0.9960 - val_loss: 1.1714 - val_accuracy: 0.7590\n",
            "Epoch 41/100\n",
            "100/100 - 8s - loss: 0.0131 - accuracy: 0.9960 - val_loss: 1.1907 - val_accuracy: 0.7540\n",
            "Epoch 42/100\n",
            "100/100 - 8s - loss: 0.0095 - accuracy: 0.9970 - val_loss: 1.7296 - val_accuracy: 0.7110\n",
            "Epoch 43/100\n",
            "100/100 - 8s - loss: 0.0112 - accuracy: 0.9970 - val_loss: 1.2821 - val_accuracy: 0.7660\n",
            "Epoch 44/100\n",
            "100/100 - 8s - loss: 0.0114 - accuracy: 0.9965 - val_loss: 1.3913 - val_accuracy: 0.7430\n",
            "Epoch 45/100\n",
            "100/100 - 8s - loss: 0.0063 - accuracy: 0.9975 - val_loss: 1.2744 - val_accuracy: 0.7630\n",
            "Epoch 46/100\n",
            "100/100 - 8s - loss: 0.0073 - accuracy: 0.9975 - val_loss: 1.4076 - val_accuracy: 0.7590\n",
            "Epoch 47/100\n",
            "100/100 - 8s - loss: 0.0094 - accuracy: 0.9965 - val_loss: 1.4632 - val_accuracy: 0.7440\n",
            "Epoch 48/100\n",
            "100/100 - 8s - loss: 0.0067 - accuracy: 0.9990 - val_loss: 1.4373 - val_accuracy: 0.7550\n",
            "Epoch 49/100\n",
            "100/100 - 8s - loss: 0.0125 - accuracy: 0.9980 - val_loss: 1.4556 - val_accuracy: 0.7560\n",
            "Epoch 50/100\n",
            "100/100 - 8s - loss: 0.0040 - accuracy: 0.9980 - val_loss: 1.4900 - val_accuracy: 0.7690\n",
            "Epoch 51/100\n",
            "100/100 - 8s - loss: 0.0116 - accuracy: 0.9965 - val_loss: 1.4897 - val_accuracy: 0.7550\n",
            "Epoch 52/100\n",
            "100/100 - 8s - loss: 0.0045 - accuracy: 0.9985 - val_loss: 1.5584 - val_accuracy: 0.7500\n",
            "Epoch 53/100\n",
            "100/100 - 8s - loss: 0.0115 - accuracy: 0.9970 - val_loss: 1.4667 - val_accuracy: 0.7590\n",
            "Epoch 54/100\n",
            "100/100 - 8s - loss: 0.0072 - accuracy: 0.9980 - val_loss: 1.5102 - val_accuracy: 0.7650\n",
            "Epoch 55/100\n",
            "100/100 - 8s - loss: 0.0116 - accuracy: 0.9955 - val_loss: 1.5278 - val_accuracy: 0.7670\n",
            "Epoch 56/100\n",
            "100/100 - 8s - loss: 0.0068 - accuracy: 0.9975 - val_loss: 1.5909 - val_accuracy: 0.7530\n",
            "Epoch 57/100\n",
            "100/100 - 8s - loss: 0.0035 - accuracy: 0.9995 - val_loss: 1.6048 - val_accuracy: 0.7690\n",
            "Epoch 58/100\n",
            "100/100 - 8s - loss: 0.0037 - accuracy: 0.9990 - val_loss: 1.6334 - val_accuracy: 0.7560\n",
            "Epoch 59/100\n",
            "100/100 - 8s - loss: 0.0161 - accuracy: 0.9955 - val_loss: 1.6335 - val_accuracy: 0.7620\n",
            "Epoch 60/100\n",
            "100/100 - 8s - loss: 0.0069 - accuracy: 0.9990 - val_loss: 1.7022 - val_accuracy: 0.7730\n",
            "Epoch 61/100\n",
            "100/100 - 8s - loss: 0.0062 - accuracy: 0.9980 - val_loss: 1.7322 - val_accuracy: 0.7620\n",
            "Epoch 62/100\n",
            "100/100 - 8s - loss: 0.0099 - accuracy: 0.9955 - val_loss: 1.7073 - val_accuracy: 0.7510\n",
            "Epoch 63/100\n",
            "100/100 - 8s - loss: 0.0089 - accuracy: 0.9975 - val_loss: 1.6649 - val_accuracy: 0.7630\n",
            "Epoch 64/100\n",
            "100/100 - 8s - loss: 0.0041 - accuracy: 0.9980 - val_loss: 1.7246 - val_accuracy: 0.7550\n",
            "Epoch 65/100\n",
            "100/100 - 8s - loss: 0.0026 - accuracy: 0.9990 - val_loss: 1.8555 - val_accuracy: 0.7530\n",
            "Epoch 66/100\n",
            "100/100 - 8s - loss: 0.0043 - accuracy: 0.9980 - val_loss: 1.8696 - val_accuracy: 0.7570\n",
            "Epoch 67/100\n",
            "100/100 - 8s - loss: 0.0166 - accuracy: 0.9975 - val_loss: 1.7550 - val_accuracy: 0.7630\n",
            "Epoch 68/100\n",
            "100/100 - 8s - loss: 0.0058 - accuracy: 0.9990 - val_loss: 1.8902 - val_accuracy: 0.7550\n",
            "Epoch 69/100\n",
            "100/100 - 8s - loss: 0.0042 - accuracy: 0.9980 - val_loss: 1.9410 - val_accuracy: 0.7500\n",
            "Epoch 70/100\n",
            "100/100 - 8s - loss: 0.0016 - accuracy: 0.9990 - val_loss: 1.8468 - val_accuracy: 0.7510\n",
            "Epoch 71/100\n",
            "100/100 - 8s - loss: 2.0664e-04 - accuracy: 1.0000 - val_loss: 2.0258 - val_accuracy: 0.7590\n",
            "Epoch 72/100\n",
            "100/100 - 8s - loss: 0.0085 - accuracy: 0.9980 - val_loss: 1.9348 - val_accuracy: 0.7530\n",
            "Epoch 73/100\n",
            "100/100 - 8s - loss: 0.0067 - accuracy: 0.9980 - val_loss: 1.8716 - val_accuracy: 0.7610\n",
            "Epoch 74/100\n",
            "100/100 - 8s - loss: 0.0070 - accuracy: 0.9985 - val_loss: 2.0661 - val_accuracy: 0.7570\n",
            "Epoch 75/100\n",
            "100/100 - 8s - loss: 1.0023e-04 - accuracy: 1.0000 - val_loss: 4.0079 - val_accuracy: 0.6600\n",
            "Epoch 76/100\n",
            "100/100 - 8s - loss: 0.0118 - accuracy: 0.9985 - val_loss: 1.9890 - val_accuracy: 0.7630\n",
            "Epoch 77/100\n",
            "100/100 - 8s - loss: 0.0074 - accuracy: 0.9990 - val_loss: 2.0332 - val_accuracy: 0.7620\n",
            "Epoch 78/100\n",
            "100/100 - 8s - loss: 0.0109 - accuracy: 0.9975 - val_loss: 1.9852 - val_accuracy: 0.7600\n",
            "Epoch 79/100\n",
            "100/100 - 8s - loss: 1.8541e-04 - accuracy: 1.0000 - val_loss: 2.0876 - val_accuracy: 0.7600\n",
            "Epoch 80/100\n",
            "100/100 - 8s - loss: 0.0038 - accuracy: 0.9985 - val_loss: 2.0711 - val_accuracy: 0.7610\n",
            "Epoch 81/100\n",
            "100/100 - 8s - loss: 0.0013 - accuracy: 0.9995 - val_loss: 2.1748 - val_accuracy: 0.7580\n",
            "Epoch 82/100\n",
            "100/100 - 8s - loss: 0.0011 - accuracy: 0.9995 - val_loss: 2.1428 - val_accuracy: 0.7600\n",
            "Epoch 83/100\n",
            "100/100 - 8s - loss: 0.0198 - accuracy: 0.9975 - val_loss: 2.1702 - val_accuracy: 0.7490\n",
            "Epoch 84/100\n",
            "100/100 - 8s - loss: 3.4264e-05 - accuracy: 1.0000 - val_loss: 2.1605 - val_accuracy: 0.7600\n",
            "Epoch 85/100\n",
            "100/100 - 8s - loss: 0.0109 - accuracy: 0.9975 - val_loss: 2.2203 - val_accuracy: 0.7540\n",
            "Epoch 86/100\n",
            "100/100 - 8s - loss: 0.0072 - accuracy: 0.9980 - val_loss: 2.0868 - val_accuracy: 0.7590\n",
            "Epoch 87/100\n",
            "100/100 - 8s - loss: 2.0905e-05 - accuracy: 1.0000 - val_loss: 2.1752 - val_accuracy: 0.7590\n",
            "Epoch 88/100\n",
            "100/100 - 8s - loss: 0.0012 - accuracy: 1.0000 - val_loss: 2.1329 - val_accuracy: 0.7580\n",
            "Epoch 89/100\n",
            "100/100 - 8s - loss: 0.0030 - accuracy: 0.9990 - val_loss: 2.1404 - val_accuracy: 0.7580\n",
            "Epoch 90/100\n",
            "100/100 - 8s - loss: 0.0059 - accuracy: 0.9980 - val_loss: 2.2211 - val_accuracy: 0.7550\n",
            "Epoch 91/100\n",
            "100/100 - 8s - loss: 7.2454e-05 - accuracy: 1.0000 - val_loss: 2.2428 - val_accuracy: 0.7530\n",
            "Epoch 92/100\n",
            "100/100 - 8s - loss: 0.0052 - accuracy: 0.9980 - val_loss: 2.2603 - val_accuracy: 0.7530\n",
            "Epoch 93/100\n",
            "100/100 - 8s - loss: 0.0072 - accuracy: 0.9980 - val_loss: 2.3224 - val_accuracy: 0.7440\n",
            "Epoch 94/100\n",
            "100/100 - 8s - loss: 0.0026 - accuracy: 0.9990 - val_loss: 2.3125 - val_accuracy: 0.7590\n",
            "Epoch 95/100\n",
            "100/100 - 8s - loss: 0.0061 - accuracy: 0.9985 - val_loss: 2.3662 - val_accuracy: 0.7480\n",
            "Epoch 96/100\n",
            "100/100 - 8s - loss: 6.7878e-05 - accuracy: 1.0000 - val_loss: 2.3087 - val_accuracy: 0.7530\n",
            "Epoch 97/100\n",
            "100/100 - 8s - loss: 0.0025 - accuracy: 0.9990 - val_loss: 2.2851 - val_accuracy: 0.7520\n",
            "Epoch 98/100\n",
            "100/100 - 8s - loss: 5.7996e-04 - accuracy: 1.0000 - val_loss: 2.2734 - val_accuracy: 0.7480\n",
            "Epoch 99/100\n",
            "100/100 - 8s - loss: 0.0082 - accuracy: 0.9985 - val_loss: 2.3349 - val_accuracy: 0.7530\n",
            "Epoch 100/100\n",
            "100/100 - 8s - loss: 0.0042 - accuracy: 0.9995 - val_loss: 2.2315 - val_accuracy: 0.7600\n"
          ],
          "name": "stdout"
        }
      ]
    },
    {
      "cell_type": "code",
      "metadata": {
        "colab": {
          "base_uri": "https://localhost:8080/",
          "height": 545
        },
        "id": "RTPPRr-8qkWk",
        "outputId": "96e80908-b793-410b-88a2-2399698e615e"
      },
      "source": [
        "acc = history.history['accuracy']\n",
        "val_acc = history.history['val_accuracy']\n",
        "loss = history.history['loss']\n",
        "val_loss = history.history['val_loss']\n",
        "\n",
        "epochs = range(len(acc))\n",
        "\n",
        "plt.plot(epochs, acc, 'bo', label='Training accuracy')\n",
        "plt.plot(epochs, val_acc, 'b', label='Validation accuracy')\n",
        "plt.title('Training and validation accuracy')\n",
        "\n",
        "plt.figure()\n",
        "\n",
        "plt.plot(epochs, loss, 'bo', label='Training Loss')\n",
        "plt.plot(epochs, val_loss, 'b', label='Validation Loss')\n",
        "plt.title('Training and validation loss')\n",
        "plt.legend()\n",
        "\n",
        "plt.show()"
      ],
      "execution_count": 25,
      "outputs": [
        {
          "output_type": "display_data",
          "data": {
            "image/png": "[encoded data removed]",
            "text/plain": [
              "<Figure size 432x288 with 1 Axes>"
            ]
          },
          "metadata": {
            "tags": [],
            "needs_background": "light"
          }
        },
        {
          "output_type": "display_data",
          "data": {
            "image/png": "[encoded data removed]",
            "text/plain": [
              "<Figure size 432x288 with 1 Axes>"
            ]
          },
          "metadata": {
            "tags": [],
            "needs_background": "light"
          }
        }
      ]
    },
    {
      "cell_type": "markdown",
      "metadata": {
        "id": "rCR3cdy4rNy3"
      },
      "source": [
        "* 튀는 점을 제외하면 전체적으로 loss가 줄었음을 알 수 있다."
      ]
    },
    {
      "cell_type": "code",
      "metadata": {
        "id": "UcUq0CEy3DiD"
      },
      "source": [
        ""
      ],
      "execution_count": null,
      "outputs": []
    }
  ]
}