{
  "nbformat": 4,
  "nbformat_minor": 0,
  "metadata": {
    "colab": {
      "name": "Course1-1. A New Programming Paradigm",
      "provenance": [],
      "authorship_tag": "ABX9TyMDwi3Kneh2WShsfvtJN4To",
      "include_colab_link": true
    },
    "kernelspec": {
      "name": "python3",
      "display_name": "Python 3"
    },
    "language_info": {
      "name": "python"
    }
  },
  "cells": [
    {
      "cell_type": "markdown",
      "metadata": {
        "id": "view-in-github",
        "colab_type": "text"
      },
      "source": [
        "<a href=\"https://colab.research.google.com/github/jonhyuk0922/Tensorflow-Dev/blob/main/Course1_1_A_New_Programming_Paradigm.ipynb\" target=\"_parent\"><img src=\"https://colab.research.google.com/assets/colab-badge.svg\" alt=\"Open In Colab\"/></a>"
      ]
    },
    {
      "cell_type": "markdown",
      "metadata": {
        "id": "N1gAC1nkQbF0"
      },
      "source": [
        "#The Hello World of Deep Learning with Neural Networks\n",
        "\n",
        "X = -1, 0, 1, 2, 3, 4\n",
        "Y = -3 -1, 1, 3, 5, 7 \n",
        "\n",
        "=> 만약 여기서 y=2x-1 이라는 식을 세운다면 이미 우리는 규칙(rules)을 세우는 것이다.\n",
        "\n",
        "Q. 그렇다면 어떻게 해야할까? A. 데이터를 이용하여 신경망에 학습을 시켜보자. "
      ]
    },
    {
      "cell_type": "markdown",
      "metadata": {
        "id": "DaNDJ7tjUaH4"
      },
      "source": [
        "##1. Import Libraries"
      ]
    },
    {
      "cell_type": "code",
      "metadata": {
        "id": "X0mQkZZcR2nZ"
      },
      "source": [
        "import tensorflow as tf\n",
        "import numpy as np"
      ],
      "execution_count": 9,
      "outputs": []
    },
    {
      "cell_type": "markdown",
      "metadata": {
        "id": "46FLs6o0Yltx"
      },
      "source": [
        "##2. Define and Compile the Neural Networks"
      ]
    },
    {
      "cell_type": "code",
      "metadata": {
        "id": "k5bTa9d7UhK0"
      },
      "source": [
        "model = tf.keras.Sequential([\n",
        "    tf.keras.layers.Dense(units=1,input_shape=[1])])\n",
        "\n",
        "model.compile(optimizer='sgd',loss='mean_squared_error') "
      ],
      "execution_count": 10,
      "outputs": []
    },
    {
      "cell_type": "markdown",
      "metadata": {
        "id": "z5HfjUCMYtWM"
      },
      "source": [
        "##3. Providing the Data"
      ]
    },
    {
      "cell_type": "code",
      "metadata": {
        "id": "ptKISm75ViV6"
      },
      "source": [
        "xs = np.array([-1.0, 0.0, 1.0, 2.0, 3.0, 4.0]),\n",
        "ys = np.array([-3.0, -1.0, 1.0, 3.0, 5.0, 7.0])"
      ],
      "execution_count": 11,
      "outputs": []
    },
    {
      "cell_type": "markdown",
      "metadata": {
        "id": "vcyGyWi-Y2iG"
      },
      "source": [
        "##4. Training the Neural Network"
      ]
    },
    {
      "cell_type": "code",
      "metadata": {
        "id": "Ec1jc3qlY2NJ"
      },
      "source": [
        "model.fit(xs,ys,epochs=500)"
      ],
      "execution_count": null,
      "outputs": []
    },
    {
      "cell_type": "markdown",
      "metadata": {
        "id": "klyD2whYY-7E"
      },
      "source": [
        "##5. Result"
      ]
    },
    {
      "cell_type": "code",
      "metadata": {
        "colab": {
          "base_uri": "https://localhost:8080/"
        },
        "id": "j8_GXfU_Y9dq",
        "outputId": "ab2cf003-9d2b-4858-efef-24a14564eeb7"
      },
      "source": [
        "print(model.predict([10.0])) #[[18.984175]]"
      ],
      "execution_count": 13,
      "outputs": [
        {
          "output_type": "stream",
          "text": [
            "[[18.983221]]\n"
          ],
          "name": "stdout"
        }
      ]
    }
  ]
}